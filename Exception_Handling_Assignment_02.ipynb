{
 "cells": [
  {
   "cell_type": "code",
   "execution_count": null,
   "id": "ac9dee01-91f9-407c-8394-cc6f0405f27e",
   "metadata": {},
   "outputs": [],
   "source": [
    "Q1. Explain why we have to use the Exception class while creating a Custom Exception.\n",
    "    Note: Here Exception class refers to the base class for all the exceptions."
   ]
  },
  {
   "cell_type": "code",
   "execution_count": null,
   "id": "49d5af8b-799c-403f-a924-b456934a3021",
   "metadata": {},
   "outputs": [],
   "source": [
    "We use the Exception class while creating a Custom Exception to:\n",
    "\n",
    "1. Improve readability of your code.\n",
    "2. Enhance reusability of features.\n",
    "3. Provide custom messages/instructions to users for specific use cases.\n",
    "4. Allow the programmer to be specific in their catch clauses, and only catch the exceptions they care about and know what to do with.\n",
    "5. Carry information about the error that’s caused the exception"
   ]
  },
  {
   "cell_type": "code",
   "execution_count": null,
   "id": "487280cf-88cd-4e02-9a67-7d56a2776573",
   "metadata": {},
   "outputs": [],
   "source": [
    "-----------------------------------------------------------------------------------------------------------------------------"
   ]
  },
  {
   "cell_type": "code",
   "execution_count": null,
   "id": "770b3207-cc61-44be-846e-742fc5259ac6",
   "metadata": {},
   "outputs": [],
   "source": [
    "Q2. Write a python program to print Python Exception Hierarchy."
   ]
  },
  {
   "cell_type": "code",
   "execution_count": 9,
   "id": "26a66838-88fe-4af6-98fc-94ffe8574083",
   "metadata": {},
   "outputs": [],
   "source": [
    "import logging"
   ]
  },
  {
   "cell_type": "code",
   "execution_count": 10,
   "id": "f633bea2-e5c9-4456-9098-a921e173f5ee",
   "metadata": {},
   "outputs": [],
   "source": [
    "logging.basicConfig(filename = \"test.log\",level = logging.DEBUG)"
   ]
  },
  {
   "cell_type": "code",
   "execution_count": 11,
   "id": "6183e757-4dd6-4bca-b4ad-6e75ede6d103",
   "metadata": {},
   "outputs": [],
   "source": [
    "def Hierarchy(cls, indent=0):\n",
    "    logging.info('.' * indent + cls.__name__)\n",
    "    for subcls in cls.__subclasses__():\n",
    "        Hierarchy(subcls, indent + 1)\n",
    "\n",
    "Hierarchy(BaseException)"
   ]
  },
  {
   "cell_type": "code",
   "execution_count": 12,
   "id": "2d76638d-46b6-4a81-b859-4a9bc4e974b3",
   "metadata": {},
   "outputs": [],
   "source": [
    "logging.shutdown()"
   ]
  },
  {
   "cell_type": "code",
   "execution_count": null,
   "id": "2e3bd301-a312-4112-9724-e89537c000e9",
   "metadata": {},
   "outputs": [],
   "source": [
    "-----------------------------------------------------------------------------------------------------------------------------"
   ]
  },
  {
   "cell_type": "code",
   "execution_count": null,
   "id": "1a61592d-1efa-4f52-9d05-f2cb1c03e918",
   "metadata": {},
   "outputs": [],
   "source": [
    "Q3. What errors are defined in the ArithmeticError class? Explain any two with an example."
   ]
  },
  {
   "cell_type": "code",
   "execution_count": null,
   "id": "2a77cbc4-2c16-4e59-8207-24edbe4979fe",
   "metadata": {},
   "outputs": [],
   "source": [
    "ArithmeticError is thrown when an error occurs while performing mathematical operations.\n",
    "for example :\n",
    "    1. ZeroDivisionError\n",
    "    2. OverflowError\n",
    "    3.FloatingPointError"
   ]
  },
  {
   "cell_type": "code",
   "execution_count": 1,
   "id": "64c9cd8f-8ea2-4096-aecc-fced79545904",
   "metadata": {},
   "outputs": [],
   "source": [
    "import logging"
   ]
  },
  {
   "cell_type": "code",
   "execution_count": 2,
   "id": "487ce436-2f42-42cf-a226-ad89bd7b08c8",
   "metadata": {},
   "outputs": [],
   "source": [
    "logging.basicConfig(filename = \"ArithmaticError.log\" , level = logging.DEBUG ,  format = '%(asctime)s %(name)s %(levelname)s  %(message)s')"
   ]
  },
  {
   "cell_type": "code",
   "execution_count": 3,
   "id": "9f2c9b49-bd81-4074-9c83-949b8331a37c",
   "metadata": {},
   "outputs": [],
   "source": [
    "## ZeroDivisionError\n",
    "try:\n",
    "    a = 10/0\n",
    "except Exception as e :\n",
    "    logging.error(e)"
   ]
  },
  {
   "cell_type": "code",
   "execution_count": 4,
   "id": "928fddbd-e6b5-4d71-9ae2-44608991ad50",
   "metadata": {},
   "outputs": [],
   "source": [
    "## FloatingPointError\n",
    "import math\n",
    "\n",
    "try:\n",
    "    result = math.sqrt(-1)  \n",
    "    print(\"Result:\", result)\n",
    "except Exception as e:\n",
    "    logging.error(e)\n"
   ]
  },
  {
   "cell_type": "code",
   "execution_count": null,
   "id": "c26174cd-1992-49d1-a836-5ac5e55bd383",
   "metadata": {},
   "outputs": [],
   "source": [
    "-----------------------------------------------------------------------------------------------------------------------------"
   ]
  },
  {
   "cell_type": "code",
   "execution_count": null,
   "id": "205d002e-383c-4c49-8c06-514c1d6a3bf6",
   "metadata": {},
   "outputs": [],
   "source": [
    "Q4. Why LookupError class is used? Explain with an example KeyError and IndexError."
   ]
  },
  {
   "cell_type": "code",
   "execution_count": null,
   "id": "6d190fb6-2620-4b81-8efc-a5724071293d",
   "metadata": {},
   "outputs": [],
   "source": [
    "The LookupError exception in Python forms the base class for all exceptions that are raised when an index \n",
    "or a key is not found for a sequence or dictionary respectively. \n",
    "The base class for the exceptions that are raised when a key or index used on a mapping or sequence is invalid:\n",
    "    1. IndexError\n",
    "    2. KeyError. "
   ]
  },
  {
   "cell_type": "code",
   "execution_count": 5,
   "id": "63ef5913-2a83-4477-bc6f-bc74b68cdd73",
   "metadata": {},
   "outputs": [],
   "source": [
    "## Index Error\n",
    "try :\n",
    "    l = [1,2,4,5,6]\n",
    "    print(l[6])\n",
    "except IndexError as e :\n",
    "    logging.error(e)"
   ]
  },
  {
   "cell_type": "code",
   "execution_count": 6,
   "id": "8d2b07d2-0be8-41eb-b2bf-5a18d56b016f",
   "metadata": {},
   "outputs": [],
   "source": [
    "## Key Error\n",
    "try :\n",
    "    d = {\"Key1\" : 123,\"Key2\" : [1,23,4]}\n",
    "    print(d[\"Key3\"])\n",
    "except KeyError as e :\n",
    "    logging.error(e)"
   ]
  },
  {
   "cell_type": "code",
   "execution_count": 7,
   "id": "f9c2f690-4ccf-429b-920c-09cdcc39b7eb",
   "metadata": {},
   "outputs": [],
   "source": [
    "logging.shutdown()"
   ]
  },
  {
   "cell_type": "code",
   "execution_count": null,
   "id": "55c98f34-7aad-4cfa-89bb-b41c6d2fb445",
   "metadata": {},
   "outputs": [],
   "source": [
    "-----------------------------------------------------------------------------------------------------------------------------"
   ]
  },
  {
   "cell_type": "code",
   "execution_count": null,
   "id": "43bca495-7333-463d-a1bc-9baef34e7d8e",
   "metadata": {},
   "outputs": [],
   "source": [
    "Q5. Explain ImportError. What is ModuleNotFoundError?"
   ]
  },
  {
   "cell_type": "code",
   "execution_count": null,
   "id": "57901af0-5e3f-4f52-b64b-565fcee55778",
   "metadata": {},
   "outputs": [],
   "source": [
    "ImportError :\n",
    "             This is a built-in exception class that is raised when an import statement fails to import a module. \n",
    "             This can occur for a variety of reasons, such as a missing or invalid module name,\n",
    "             a missing or invalid module file, or a failure to find a required dependency.\n",
    "\n",
    "ModuleNotFoundError : \n",
    "                    ModuleNotFoundError was added to explicitly indicate that a module could not be found.\n",
    "                    This exception is derived from ImportError and raises when an imported module cannot be found."
   ]
  },
  {
   "cell_type": "code",
   "execution_count": null,
   "id": "148c4fd3-f2e8-47ee-876b-b6525f290ef2",
   "metadata": {},
   "outputs": [],
   "source": [
    "----------------------------------------------------------------------------------------------------------------------------"
   ]
  },
  {
   "cell_type": "code",
   "execution_count": null,
   "id": "d753a9ff-1109-468e-a7b7-6bd66b6fda4d",
   "metadata": {},
   "outputs": [],
   "source": [
    "Q6. List down some best practices for exception handling in python."
   ]
  },
  {
   "cell_type": "code",
   "execution_count": null,
   "id": "4e60ba86-cbb7-4a44-99b8-0d4154c555aa",
   "metadata": {},
   "outputs": [],
   "source": [
    "some best practices for exception handling in python are as follow :\n",
    "      1. use always specific exception instruction \n",
    "      2. print always proper massage \n",
    "      3. always try to log your error by using import logging \n",
    "      4. always avoid to write a multiple exception handling \n",
    "      5. Document all the error or exception\n",
    "      6. cleanup all the resources like closing file"
   ]
  }
 ],
 "metadata": {
  "kernelspec": {
   "display_name": "Python 3 (ipykernel)",
   "language": "python",
   "name": "python3"
  },
  "language_info": {
   "codemirror_mode": {
    "name": "ipython",
    "version": 3
   },
   "file_extension": ".py",
   "mimetype": "text/x-python",
   "name": "python",
   "nbconvert_exporter": "python",
   "pygments_lexer": "ipython3",
   "version": "3.10.8"
  }
 },
 "nbformat": 4,
 "nbformat_minor": 5
}
